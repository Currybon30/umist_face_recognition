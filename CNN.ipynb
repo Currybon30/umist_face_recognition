{
 "cells": [
  {
   "cell_type": "code",
   "execution_count": 1,
   "id": "c6f75f78-ed04-4425-9a47-a3111c1ba9b0",
   "metadata": {},
   "outputs": [],
   "source": [
    "from tensorflow.keras import models\n",
    "from tensorflow.keras.layers import Activation, ZeroPadding2D, MaxPooling2D, Conv2D, Flatten, Dense, Dropout\n",
    "from tensorflow.keras import regularizers, constraints\n",
    "from tensorflow.keras import optimizers, losses\n",
    "from tensorflow.keras.callbacks import EarlyStopping\n",
    "from sklearn.metrics import classification_report, confusion_matrix, precision_recall_fscore_support\n",
    "import tensorflow as tf\n",
    "import pandas as pd\n",
    "from matplotlib import pyplot as plt\n",
    "import numpy as np"
   ]
  },
  {
   "cell_type": "code",
   "execution_count": 2,
   "id": "a268ca54-3499-476d-bda8-2fc8ba3f61db",
   "metadata": {},
   "outputs": [],
   "source": [
    "data = pd.read_csv('data/umist_cropped_with_cluster_id_training.csv')\n",
    "val_data = pd.read_csv('data/validation_data/umist_cropped_with_cluster_id_val.csv')\n",
    "test_data = pd.read_csv('data/test_data/umist_cropped_with_cluster_id_test.csv')"
   ]
  },
  {
   "cell_type": "code",
   "execution_count": 3,
   "id": "0197a98e-b94f-47ff-85da-06e4a636620a",
   "metadata": {},
   "outputs": [
    {
     "data": {
      "text/html": [
       "<div>\n",
       "<style scoped>\n",
       "    .dataframe tbody tr th:only-of-type {\n",
       "        vertical-align: middle;\n",
       "    }\n",
       "\n",
       "    .dataframe tbody tr th {\n",
       "        vertical-align: top;\n",
       "    }\n",
       "\n",
       "    .dataframe thead th {\n",
       "        text-align: right;\n",
       "    }\n",
       "</style>\n",
       "<table border=\"1\" class=\"dataframe\">\n",
       "  <thead>\n",
       "    <tr style=\"text-align: right;\">\n",
       "      <th></th>\n",
       "      <th>pixel_0</th>\n",
       "      <th>pixel_1</th>\n",
       "      <th>pixel_2</th>\n",
       "      <th>pixel_3</th>\n",
       "      <th>pixel_4</th>\n",
       "      <th>pixel_5</th>\n",
       "      <th>pixel_6</th>\n",
       "      <th>pixel_7</th>\n",
       "      <th>pixel_8</th>\n",
       "      <th>pixel_9</th>\n",
       "      <th>...</th>\n",
       "      <th>pixel_10294</th>\n",
       "      <th>pixel_10295</th>\n",
       "      <th>pixel_10296</th>\n",
       "      <th>pixel_10297</th>\n",
       "      <th>pixel_10298</th>\n",
       "      <th>pixel_10299</th>\n",
       "      <th>pixel_10300</th>\n",
       "      <th>pixel_10301</th>\n",
       "      <th>pixel_10302</th>\n",
       "      <th>pixel_10303</th>\n",
       "    </tr>\n",
       "  </thead>\n",
       "  <tbody>\n",
       "    <tr>\n",
       "      <th>0</th>\n",
       "      <td>234.000000</td>\n",
       "      <td>234.000000</td>\n",
       "      <td>234.000000</td>\n",
       "      <td>234.000000</td>\n",
       "      <td>234.000000</td>\n",
       "      <td>234.000000</td>\n",
       "      <td>234.000000</td>\n",
       "      <td>234.000000</td>\n",
       "      <td>234.000000</td>\n",
       "      <td>233.000000</td>\n",
       "      <td>...</td>\n",
       "      <td>195.000000</td>\n",
       "      <td>195.000000</td>\n",
       "      <td>193.000000</td>\n",
       "      <td>192.000000</td>\n",
       "      <td>192.000000</td>\n",
       "      <td>192.000000</td>\n",
       "      <td>192.000000</td>\n",
       "      <td>191.000000</td>\n",
       "      <td>190.000000</td>\n",
       "      <td>191.000000</td>\n",
       "    </tr>\n",
       "    <tr>\n",
       "      <th>1</th>\n",
       "      <td>234.000000</td>\n",
       "      <td>234.000000</td>\n",
       "      <td>234.000000</td>\n",
       "      <td>234.000000</td>\n",
       "      <td>234.000000</td>\n",
       "      <td>234.000000</td>\n",
       "      <td>234.000000</td>\n",
       "      <td>234.000000</td>\n",
       "      <td>234.000000</td>\n",
       "      <td>234.000000</td>\n",
       "      <td>...</td>\n",
       "      <td>192.000000</td>\n",
       "      <td>192.000000</td>\n",
       "      <td>191.000000</td>\n",
       "      <td>186.000000</td>\n",
       "      <td>183.000000</td>\n",
       "      <td>179.000000</td>\n",
       "      <td>174.000000</td>\n",
       "      <td>169.000000</td>\n",
       "      <td>165.000000</td>\n",
       "      <td>164.000000</td>\n",
       "    </tr>\n",
       "    <tr>\n",
       "      <th>2</th>\n",
       "      <td>234.000000</td>\n",
       "      <td>234.000000</td>\n",
       "      <td>234.000000</td>\n",
       "      <td>234.000000</td>\n",
       "      <td>234.000000</td>\n",
       "      <td>234.000000</td>\n",
       "      <td>234.000000</td>\n",
       "      <td>233.000000</td>\n",
       "      <td>225.000000</td>\n",
       "      <td>186.000000</td>\n",
       "      <td>...</td>\n",
       "      <td>192.000000</td>\n",
       "      <td>192.000000</td>\n",
       "      <td>191.000000</td>\n",
       "      <td>185.000000</td>\n",
       "      <td>184.000000</td>\n",
       "      <td>177.000000</td>\n",
       "      <td>170.000000</td>\n",
       "      <td>166.000000</td>\n",
       "      <td>164.000000</td>\n",
       "      <td>163.000000</td>\n",
       "    </tr>\n",
       "    <tr>\n",
       "      <th>3</th>\n",
       "      <td>234.000000</td>\n",
       "      <td>234.000000</td>\n",
       "      <td>234.000000</td>\n",
       "      <td>234.000000</td>\n",
       "      <td>233.000000</td>\n",
       "      <td>230.000000</td>\n",
       "      <td>225.000000</td>\n",
       "      <td>109.000000</td>\n",
       "      <td>85.000000</td>\n",
       "      <td>84.000000</td>\n",
       "      <td>...</td>\n",
       "      <td>180.000000</td>\n",
       "      <td>174.000000</td>\n",
       "      <td>168.000000</td>\n",
       "      <td>164.000000</td>\n",
       "      <td>157.000000</td>\n",
       "      <td>152.000000</td>\n",
       "      <td>151.000000</td>\n",
       "      <td>148.000000</td>\n",
       "      <td>145.000000</td>\n",
       "      <td>145.000000</td>\n",
       "    </tr>\n",
       "    <tr>\n",
       "      <th>4</th>\n",
       "      <td>234.000000</td>\n",
       "      <td>234.000000</td>\n",
       "      <td>234.000000</td>\n",
       "      <td>234.000000</td>\n",
       "      <td>234.000000</td>\n",
       "      <td>234.000000</td>\n",
       "      <td>234.000000</td>\n",
       "      <td>234.000000</td>\n",
       "      <td>234.000000</td>\n",
       "      <td>234.000000</td>\n",
       "      <td>...</td>\n",
       "      <td>192.000000</td>\n",
       "      <td>192.000000</td>\n",
       "      <td>191.000000</td>\n",
       "      <td>190.000000</td>\n",
       "      <td>188.000000</td>\n",
       "      <td>184.000000</td>\n",
       "      <td>177.000000</td>\n",
       "      <td>173.000000</td>\n",
       "      <td>168.000000</td>\n",
       "      <td>164.000000</td>\n",
       "    </tr>\n",
       "    <tr>\n",
       "      <th>...</th>\n",
       "      <td>...</td>\n",
       "      <td>...</td>\n",
       "      <td>...</td>\n",
       "      <td>...</td>\n",
       "      <td>...</td>\n",
       "      <td>...</td>\n",
       "      <td>...</td>\n",
       "      <td>...</td>\n",
       "      <td>...</td>\n",
       "      <td>...</td>\n",
       "      <td>...</td>\n",
       "      <td>...</td>\n",
       "      <td>...</td>\n",
       "      <td>...</td>\n",
       "      <td>...</td>\n",
       "      <td>...</td>\n",
       "      <td>...</td>\n",
       "      <td>...</td>\n",
       "      <td>...</td>\n",
       "      <td>...</td>\n",
       "      <td>...</td>\n",
       "    </tr>\n",
       "    <tr>\n",
       "      <th>595</th>\n",
       "      <td>12.774262</td>\n",
       "      <td>14.900889</td>\n",
       "      <td>17.034262</td>\n",
       "      <td>16.753109</td>\n",
       "      <td>19.921688</td>\n",
       "      <td>32.031654</td>\n",
       "      <td>40.802284</td>\n",
       "      <td>38.213154</td>\n",
       "      <td>37.520039</td>\n",
       "      <td>41.379807</td>\n",
       "      <td>...</td>\n",
       "      <td>113.303436</td>\n",
       "      <td>93.813164</td>\n",
       "      <td>86.412865</td>\n",
       "      <td>86.000000</td>\n",
       "      <td>86.000000</td>\n",
       "      <td>86.000000</td>\n",
       "      <td>86.000000</td>\n",
       "      <td>86.000000</td>\n",
       "      <td>86.000000</td>\n",
       "      <td>86.000000</td>\n",
       "    </tr>\n",
       "    <tr>\n",
       "      <th>596</th>\n",
       "      <td>34.614086</td>\n",
       "      <td>33.583519</td>\n",
       "      <td>31.000000</td>\n",
       "      <td>28.009336</td>\n",
       "      <td>23.638203</td>\n",
       "      <td>24.206892</td>\n",
       "      <td>22.209639</td>\n",
       "      <td>22.690187</td>\n",
       "      <td>20.699478</td>\n",
       "      <td>17.636459</td>\n",
       "      <td>...</td>\n",
       "      <td>115.571373</td>\n",
       "      <td>125.828773</td>\n",
       "      <td>134.128143</td>\n",
       "      <td>135.000000</td>\n",
       "      <td>135.000000</td>\n",
       "      <td>135.000000</td>\n",
       "      <td>134.090775</td>\n",
       "      <td>130.582047</td>\n",
       "      <td>110.805885</td>\n",
       "      <td>91.844559</td>\n",
       "    </tr>\n",
       "    <tr>\n",
       "      <th>597</th>\n",
       "      <td>12.382547</td>\n",
       "      <td>11.983182</td>\n",
       "      <td>11.583817</td>\n",
       "      <td>11.184451</td>\n",
       "      <td>11.286551</td>\n",
       "      <td>11.819038</td>\n",
       "      <td>12.351525</td>\n",
       "      <td>12.884012</td>\n",
       "      <td>13.416499</td>\n",
       "      <td>13.948986</td>\n",
       "      <td>...</td>\n",
       "      <td>79.849518</td>\n",
       "      <td>80.711899</td>\n",
       "      <td>82.771255</td>\n",
       "      <td>83.456573</td>\n",
       "      <td>84.608582</td>\n",
       "      <td>85.115562</td>\n",
       "      <td>85.000000</td>\n",
       "      <td>85.000000</td>\n",
       "      <td>85.000000</td>\n",
       "      <td>85.000000</td>\n",
       "    </tr>\n",
       "    <tr>\n",
       "      <th>598</th>\n",
       "      <td>12.370116</td>\n",
       "      <td>11.914194</td>\n",
       "      <td>11.458273</td>\n",
       "      <td>11.002351</td>\n",
       "      <td>11.604760</td>\n",
       "      <td>12.212656</td>\n",
       "      <td>12.820552</td>\n",
       "      <td>13.428447</td>\n",
       "      <td>14.036343</td>\n",
       "      <td>14.644238</td>\n",
       "      <td>...</td>\n",
       "      <td>83.477509</td>\n",
       "      <td>83.755440</td>\n",
       "      <td>86.950645</td>\n",
       "      <td>87.505348</td>\n",
       "      <td>87.967468</td>\n",
       "      <td>87.232796</td>\n",
       "      <td>85.579475</td>\n",
       "      <td>87.959824</td>\n",
       "      <td>86.000000</td>\n",
       "      <td>86.000000</td>\n",
       "    </tr>\n",
       "    <tr>\n",
       "      <th>599</th>\n",
       "      <td>17.176050</td>\n",
       "      <td>17.358248</td>\n",
       "      <td>17.540445</td>\n",
       "      <td>17.722643</td>\n",
       "      <td>17.904840</td>\n",
       "      <td>18.348154</td>\n",
       "      <td>19.076944</td>\n",
       "      <td>19.805735</td>\n",
       "      <td>20.534525</td>\n",
       "      <td>21.263315</td>\n",
       "      <td>...</td>\n",
       "      <td>63.561523</td>\n",
       "      <td>53.242973</td>\n",
       "      <td>53.188030</td>\n",
       "      <td>56.062740</td>\n",
       "      <td>61.447849</td>\n",
       "      <td>69.055214</td>\n",
       "      <td>75.469208</td>\n",
       "      <td>78.678032</td>\n",
       "      <td>78.422256</td>\n",
       "      <td>77.511269</td>\n",
       "    </tr>\n",
       "  </tbody>\n",
       "</table>\n",
       "<p>600 rows × 10304 columns</p>\n",
       "</div>"
      ],
      "text/plain": [
       "        pixel_0     pixel_1     pixel_2     pixel_3     pixel_4     pixel_5  \\\n",
       "0    234.000000  234.000000  234.000000  234.000000  234.000000  234.000000   \n",
       "1    234.000000  234.000000  234.000000  234.000000  234.000000  234.000000   \n",
       "2    234.000000  234.000000  234.000000  234.000000  234.000000  234.000000   \n",
       "3    234.000000  234.000000  234.000000  234.000000  233.000000  230.000000   \n",
       "4    234.000000  234.000000  234.000000  234.000000  234.000000  234.000000   \n",
       "..          ...         ...         ...         ...         ...         ...   \n",
       "595   12.774262   14.900889   17.034262   16.753109   19.921688   32.031654   \n",
       "596   34.614086   33.583519   31.000000   28.009336   23.638203   24.206892   \n",
       "597   12.382547   11.983182   11.583817   11.184451   11.286551   11.819038   \n",
       "598   12.370116   11.914194   11.458273   11.002351   11.604760   12.212656   \n",
       "599   17.176050   17.358248   17.540445   17.722643   17.904840   18.348154   \n",
       "\n",
       "        pixel_6     pixel_7     pixel_8     pixel_9  ...  pixel_10294  \\\n",
       "0    234.000000  234.000000  234.000000  233.000000  ...   195.000000   \n",
       "1    234.000000  234.000000  234.000000  234.000000  ...   192.000000   \n",
       "2    234.000000  233.000000  225.000000  186.000000  ...   192.000000   \n",
       "3    225.000000  109.000000   85.000000   84.000000  ...   180.000000   \n",
       "4    234.000000  234.000000  234.000000  234.000000  ...   192.000000   \n",
       "..          ...         ...         ...         ...  ...          ...   \n",
       "595   40.802284   38.213154   37.520039   41.379807  ...   113.303436   \n",
       "596   22.209639   22.690187   20.699478   17.636459  ...   115.571373   \n",
       "597   12.351525   12.884012   13.416499   13.948986  ...    79.849518   \n",
       "598   12.820552   13.428447   14.036343   14.644238  ...    83.477509   \n",
       "599   19.076944   19.805735   20.534525   21.263315  ...    63.561523   \n",
       "\n",
       "     pixel_10295  pixel_10296  pixel_10297  pixel_10298  pixel_10299  \\\n",
       "0     195.000000   193.000000   192.000000   192.000000   192.000000   \n",
       "1     192.000000   191.000000   186.000000   183.000000   179.000000   \n",
       "2     192.000000   191.000000   185.000000   184.000000   177.000000   \n",
       "3     174.000000   168.000000   164.000000   157.000000   152.000000   \n",
       "4     192.000000   191.000000   190.000000   188.000000   184.000000   \n",
       "..           ...          ...          ...          ...          ...   \n",
       "595    93.813164    86.412865    86.000000    86.000000    86.000000   \n",
       "596   125.828773   134.128143   135.000000   135.000000   135.000000   \n",
       "597    80.711899    82.771255    83.456573    84.608582    85.115562   \n",
       "598    83.755440    86.950645    87.505348    87.967468    87.232796   \n",
       "599    53.242973    53.188030    56.062740    61.447849    69.055214   \n",
       "\n",
       "     pixel_10300  pixel_10301  pixel_10302  pixel_10303  \n",
       "0     192.000000   191.000000   190.000000   191.000000  \n",
       "1     174.000000   169.000000   165.000000   164.000000  \n",
       "2     170.000000   166.000000   164.000000   163.000000  \n",
       "3     151.000000   148.000000   145.000000   145.000000  \n",
       "4     177.000000   173.000000   168.000000   164.000000  \n",
       "..           ...          ...          ...          ...  \n",
       "595    86.000000    86.000000    86.000000    86.000000  \n",
       "596   134.090775   130.582047   110.805885    91.844559  \n",
       "597    85.000000    85.000000    85.000000    85.000000  \n",
       "598    85.579475    87.959824    86.000000    86.000000  \n",
       "599    75.469208    78.678032    78.422256    77.511269  \n",
       "\n",
       "[600 rows x 10304 columns]"
      ]
     },
     "execution_count": 3,
     "metadata": {},
     "output_type": "execute_result"
    }
   ],
   "source": [
    "X_train = data.drop(['cluster_id'],axis = 1)\n",
    "X_val = val_data.drop(['cluster_id'],axis = 1)\n",
    "X_test = test_data.drop(['cluster_id'],axis = 1)\n",
    "X_train"
   ]
  },
  {
   "cell_type": "code",
   "execution_count": 4,
   "id": "9db4a0fd-60a8-4cfd-a87c-a1238b6b4959",
   "metadata": {},
   "outputs": [
    {
     "data": {
      "text/plain": [
       "0      8\n",
       "1      8\n",
       "2      8\n",
       "3      8\n",
       "4      8\n",
       "      ..\n",
       "595    5\n",
       "596    5\n",
       "597    5\n",
       "598    5\n",
       "599    5\n",
       "Name: cluster_id, Length: 600, dtype: int64"
      ]
     },
     "execution_count": 4,
     "metadata": {},
     "output_type": "execute_result"
    }
   ],
   "source": [
    "y_train = data['cluster_id']\n",
    "y_val = val_data['cluster_id']\n",
    "y_test = test_data['cluster_id']\n",
    "y_train"
   ]
  },
  {
   "cell_type": "code",
   "execution_count": 5,
   "id": "b3fb2d99-3150-4a15-8874-aa624dc389a0",
   "metadata": {},
   "outputs": [
    {
     "data": {
      "text/plain": [
       "array([ 1,  2,  3,  4,  5,  6,  7,  8,  9, 10, 11, 12, 13, 14, 15, 16, 17,\n",
       "       18, 19, 20, 21, 22, 23, 24, 25, 26])"
      ]
     },
     "execution_count": 5,
     "metadata": {},
     "output_type": "execute_result"
    }
   ],
   "source": [
    "np.unique(y_train)"
   ]
  },
  {
   "cell_type": "code",
   "execution_count": 6,
   "id": "8c86445e-9c03-42fd-8d67-3f3e76f6e948",
   "metadata": {},
   "outputs": [],
   "source": [
    "# Extract pixel values and reshape\n",
    "train_array = X_train.values\n",
    "num_samples = train_array.shape[0]"
   ]
  },
  {
   "cell_type": "code",
   "execution_count": 7,
   "id": "3fae8a02-53b8-4674-8d57-812b446c28c6",
   "metadata": {},
   "outputs": [],
   "source": [
    "# Reshape into (num_samples, height, width, channels)\n",
    "reshaped_images = train_array.reshape(num_samples, 112, 92, 1)  # Assuming grayscale\n",
    "X_test = X_test.values.reshape(test_data.shape[0], 112, 92, 1)\n",
    "X_val = X_val.values.reshape(test_data.shape[0], 112, 92, 1)"
   ]
  },
  {
   "cell_type": "code",
   "execution_count": 8,
   "id": "59a0837f-9796-495c-8520-5bc24854c702",
   "metadata": {},
   "outputs": [],
   "source": [
    "# Normalize the images\n",
    "reshaped_images = reshaped_images / 255.0\n",
    "X_test = X_test/ 255.0\n",
    "X_val = X_val/ 255.0"
   ]
  },
  {
   "cell_type": "code",
   "execution_count": 9,
   "id": "4ce9603f-5843-48be-a911-b243255f7074",
   "metadata": {},
   "outputs": [],
   "source": [
    "# Convert to TensorFlow tensors\n",
    "image_tensors = tf.convert_to_tensor(reshaped_images, dtype=tf.float32)"
   ]
  },
  {
   "cell_type": "code",
   "execution_count": 10,
   "id": "a2850ee9-54bd-42c1-9b3d-c093a09f4815",
   "metadata": {},
   "outputs": [
    {
     "name": "stdout",
     "output_type": "stream",
     "text": [
      "Image tensor shape: (600, 112, 92, 1)\n"
     ]
    }
   ],
   "source": [
    "print(f\"Image tensor shape: {image_tensors.shape}\")  # Should print (num_samples, 112, 92, 1)"
   ]
  },
  {
   "cell_type": "code",
   "execution_count": 11,
   "id": "c7b7f661-2eaf-4022-a01c-1bd63d86b687",
   "metadata": {},
   "outputs": [],
   "source": [
    "IMAGE_WIDTH = 112\n",
    "IMAGE_HEIGHT = 92\n",
    "NUM_CLASSES = 27\n",
    "BATCH_SIZE = 32\n",
    "EPOCHS = 10\n",
    "NUMBER_OF_TRAINING_IMAGES = 600"
   ]
  },
  {
   "cell_type": "code",
   "execution_count": 12,
   "id": "f0719c14-913b-4275-a45b-485122b174d2",
   "metadata": {},
   "outputs": [],
   "source": [
    "model = models.Sequential()\n",
    "\n",
    "model.add(Conv2D(32, kernel_size=(3, 3), activation='linear', input_shape=(IMAGE_WIDTH, IMAGE_HEIGHT, 1), padding='same'))\n",
    "model.add(MaxPooling2D((2, 2)))\n",
    "\n",
    "model.add(Conv2D(64, (3, 3), activation='relu', kernel_regularizer=regularizers.l2(l2=0.01)))\n",
    "model.add(MaxPooling2D(pool_size=(2, 2)))\n",
    "\n",
    "model.add(Conv2D(128, (3, 3), activation='relu', kernel_regularizer=regularizers.l2(l2=0.01)))\n",
    "model.add(MaxPooling2D(pool_size=(2, 2)))\n",
    "\n",
    "model.add(Flatten())\n",
    "\n",
    "model.add(Dense(512, activation='relu', kernel_initializer=\"glorot_uniform\", kernel_regularizer=regularizers.l2(l2=0.01)))\n",
    "\n",
    "model.add(Dropout(0.5))\n",
    "\n",
    "model.add(Dense(NUM_CLASSES, activation='softmax', kernel_initializer=\"glorot_uniform\"))"
   ]
  },
  {
   "cell_type": "code",
   "execution_count": 13,
   "id": "a8412fd7-926d-4146-bb88-a20a6f44efa6",
   "metadata": {},
   "outputs": [
    {
     "name": "stdout",
     "output_type": "stream",
     "text": [
      "Model: \"sequential\"\n",
      "_________________________________________________________________\n",
      " Layer (type)                Output Shape              Param #   \n",
      "=================================================================\n",
      " conv2d (Conv2D)             (None, 112, 92, 32)       320       \n",
      "                                                                 \n",
      " max_pooling2d (MaxPooling2D  (None, 56, 46, 32)       0         \n",
      " )                                                               \n",
      "                                                                 \n",
      " conv2d_1 (Conv2D)           (None, 54, 44, 64)        18496     \n",
      "                                                                 \n",
      " max_pooling2d_1 (MaxPooling  (None, 27, 22, 64)       0         \n",
      " 2D)                                                             \n",
      "                                                                 \n",
      " conv2d_2 (Conv2D)           (None, 25, 20, 128)       73856     \n",
      "                                                                 \n",
      " max_pooling2d_2 (MaxPooling  (None, 12, 10, 128)      0         \n",
      " 2D)                                                             \n",
      "                                                                 \n",
      " flatten (Flatten)           (None, 15360)             0         \n",
      "                                                                 \n",
      " dense (Dense)               (None, 512)               7864832   \n",
      "                                                                 \n",
      " dropout (Dropout)           (None, 512)               0         \n",
      "                                                                 \n",
      " dense_1 (Dense)             (None, 27)                13851     \n",
      "                                                                 \n",
      "=================================================================\n",
      "Total params: 7,971,355\n",
      "Trainable params: 7,971,355\n",
      "Non-trainable params: 0\n",
      "_________________________________________________________________\n"
     ]
    }
   ],
   "source": [
    "model.summary()"
   ]
  },
  {
   "cell_type": "code",
   "execution_count": 14,
   "id": "6ba353ec-a886-449c-a695-3bd15dd05664",
   "metadata": {},
   "outputs": [],
   "source": [
    "early_stopping = EarlyStopping()"
   ]
  },
  {
   "cell_type": "code",
   "execution_count": 15,
   "id": "2d2b988f-7297-4fb5-a263-fc08561460d6",
   "metadata": {},
   "outputs": [],
   "source": [
    "model.compile(\n",
    "    loss='sparse_categorical_crossentropy',\n",
    "    optimizer=optimizers.Adam(learning_rate=0.0003),\n",
    "    metrics=[\"accuracy\"]\n",
    ")"
   ]
  },
  {
   "cell_type": "code",
   "execution_count": 16,
   "id": "0d40508a-2a42-45b9-986f-5814b40aaa0e",
   "metadata": {},
   "outputs": [
    {
     "name": "stdout",
     "output_type": "stream",
     "text": [
      "Epoch 1/10\n"
     ]
    },
    {
     "name": "stderr",
     "output_type": "stream",
     "text": [
      "2024-12-03 15:41:53.451546: W tensorflow/tsl/platform/profile_utils/cpu_utils.cc:128] Failed to get CPU frequency: 0 Hz\n"
     ]
    },
    {
     "name": "stdout",
     "output_type": "stream",
     "text": [
      "19/19 [==============================] - 3s 112ms/step - loss: 11.4719 - accuracy: 0.0767 - val_loss: 8.6323 - val_accuracy: 0.1770\n",
      "Epoch 2/10\n",
      "19/19 [==============================] - 2s 101ms/step - loss: 6.9526 - accuracy: 0.2017 - val_loss: 5.5060 - val_accuracy: 0.2743\n",
      "Epoch 3/10\n",
      "19/19 [==============================] - 2s 102ms/step - loss: 4.6235 - accuracy: 0.3600 - val_loss: 3.6455 - val_accuracy: 0.4779\n",
      "Epoch 4/10\n",
      "19/19 [==============================] - 2s 105ms/step - loss: 3.3460 - accuracy: 0.5333 - val_loss: 2.6253 - val_accuracy: 0.6726\n",
      "Epoch 5/10\n",
      "19/19 [==============================] - 2s 102ms/step - loss: 2.6450 - accuracy: 0.7050 - val_loss: 2.3364 - val_accuracy: 0.7611\n",
      "Epoch 6/10\n",
      "19/19 [==============================] - 2s 101ms/step - loss: 2.2653 - accuracy: 0.7483 - val_loss: 1.9869 - val_accuracy: 0.7965\n",
      "Epoch 7/10\n",
      "19/19 [==============================] - 2s 103ms/step - loss: 1.9966 - accuracy: 0.8217 - val_loss: 1.8337 - val_accuracy: 0.8407\n",
      "Epoch 8/10\n",
      "19/19 [==============================] - 2s 106ms/step - loss: 1.6915 - accuracy: 0.8817 - val_loss: 1.8038 - val_accuracy: 0.8230\n",
      "Epoch 9/10\n",
      "19/19 [==============================] - 2s 102ms/step - loss: 1.5228 - accuracy: 0.9133 - val_loss: 1.7075 - val_accuracy: 0.8496\n",
      "Epoch 10/10\n",
      "19/19 [==============================] - 2s 102ms/step - loss: 1.4445 - accuracy: 0.9083 - val_loss: 1.7127 - val_accuracy: 0.7788\n"
     ]
    }
   ],
   "source": [
    "history = model.fit(reshaped_images, y_train, validation_data=(X_val, y_val), epochs=EPOCHS, batch_size=BATCH_SIZE, shuffle=True)"
   ]
  },
  {
   "cell_type": "code",
   "execution_count": 17,
   "id": "56279c6b-8c5d-4a00-a928-b05ba634af2b",
   "metadata": {},
   "outputs": [
    {
     "data": {
      "text/plain": [
       "<matplotlib.legend.Legend at 0x17de536d0>"
      ]
     },
     "execution_count": 17,
     "metadata": {},
     "output_type": "execute_result"
    },
    {
     "data": {
      "image/png": "[encoded data removed]",
      "text/plain": [
       "<Figure size 640x480 with 1 Axes>"
      ]
     },
     "metadata": {},
     "output_type": "display_data"
    }
   ],
   "source": [
    "plot_folder = \"plot\"\n",
    "plt.plot(history.history['accuracy'], label='accuracy')\n",
    "plt.xlabel('Epoch')\n",
    "plt.ylabel('Accuracy')\n",
    "plt.ylim([0.1, 1])\n",
    "plt.legend(loc='lower right')"
   ]
  },
  {
   "cell_type": "code",
   "execution_count": 18,
   "id": "5fa0789e-4401-459d-96ad-a6f106097c1a",
   "metadata": {},
   "outputs": [
    {
     "data": {
      "text/plain": [
       "<matplotlib.legend.Legend at 0x17de53850>"
      ]
     },
     "execution_count": 18,
     "metadata": {},
     "output_type": "execute_result"
    },
    {
     "data": {
      "image/png": "[encoded data removed]",
      "text/plain": [
       "<Figure size 640x480 with 1 Axes>"
      ]
     },
     "metadata": {},
     "output_type": "display_data"
    }
   ],
   "source": [
    "plot_folder = \"plot\"\n",
    "plt.plot(history.history['loss'], label='loss')\n",
    "plt.xlabel('Epoch')\n",
    "plt.ylabel('Val Loss')\n",
    "plt.legend(loc='lower right')"
   ]
  },
  {
   "cell_type": "code",
   "execution_count": 19,
   "id": "8f19cac7-0e64-48cc-9184-e1ddc507341e",
   "metadata": {},
   "outputs": [
    {
     "name": "stdout",
     "output_type": "stream",
     "text": [
      "Validation Accuracy: 80.53%\n"
     ]
    }
   ],
   "source": [
    "# Evaluate the model\n",
    "loss, accuracy = model.evaluate(X_test, y_test, verbose=0)\n",
    "print(f\"Validation Accuracy: {accuracy * 100:.2f}%\")"
   ]
  },
  {
   "cell_type": "code",
   "execution_count": null,
   "id": "83150d9a-186e-4698-ad37-a93a53070964",
   "metadata": {},
   "outputs": [],
   "source": []
  }
 ],
 "metadata": {
  "kernelspec": {
   "display_name": "Python 3 (ipykernel)",
   "language": "python",
   "name": "python3"
  },
  "language_info": {
   "codemirror_mode": {
    "name": "ipython",
    "version": 3
   },
   "file_extension": ".py",
   "mimetype": "text/x-python",
   "name": "python",
   "nbconvert_exporter": "python",
   "pygments_lexer": "ipython3",
   "version": "3.10.9"
  }
 },
 "nbformat": 4,
 "nbformat_minor": 5
}
